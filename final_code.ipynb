{
  "nbformat": 4,
  "nbformat_minor": 0,
  "metadata": {
    "colab": {
      "provenance": [],
      "authorship_tag": "ABX9TyOzwitW8+lOOdH7lcJR1ck0",
      "include_colab_link": true
    },
    "kernelspec": {
      "name": "python3",
      "display_name": "Python 3"
    },
    "language_info": {
      "name": "python"
    }
  },
  "cells": [
    {
      "cell_type": "markdown",
      "metadata": {
        "id": "view-in-github",
        "colab_type": "text"
      },
      "source": [
        "<a href=\"https://colab.research.google.com/github/PiyushiAnand/FinSearch_RL/blob/main/final_code.ipynb\" target=\"_parent\"><img src=\"https://colab.research.google.com/assets/colab-badge.svg\" alt=\"Open In Colab\"/></a>"
      ]
    },
    {
      "cell_type": "code",
      "execution_count": 2,
      "metadata": {
        "id": "0tDUc7O_2mB1"
      },
      "outputs": [],
      "source": [
        "import torch\n",
        "import torch.nn as nn\n",
        "import torch.optim as optim\n",
        "import pandas as pd\n",
        "import random\n",
        "import matplotlib.pyplot as plt\n",
        "from sklearn.preprocessing import MinMaxScaler"
      ]
    },
    {
      "cell_type": "code",
      "source": [
        "# Load the training data into a Pandas DataFrame.\n",
        "train_data = pd.read_excel(\"HistoricalPrices-3.xlsx\")\n",
        "\n",
        "# Load the testing data into a Pandas DataFrame.\n",
        "test_data = pd.read_excel(\"nifty50.xlsx\")\n",
        "\n",
        "# Normalize the data\n",
        "scaler = MinMaxScaler()\n",
        "train_data_normalized = scaler.fit_transform(train_data.iloc[:, 4].values.reshape(-1, 1))\n",
        "test_data_normalized = scaler.transform(test_data.iloc[:, 4].values.reshape(-1, 1))"
      ],
      "metadata": {
        "id": "ig0U5T6B2pTd"
      },
      "execution_count": 3,
      "outputs": []
    },
    {
      "cell_type": "code",
      "source": [
        "# Define the state function\n",
        "def get_state(state_index, data):\n",
        "    lookback_window = 5  # Number of previous time steps to consider\n",
        "    start_index = max(0, state_index - lookback_window)\n",
        "    end_index = state_index + 1\n",
        "    state = data[start_index:end_index].flatten()\n",
        "    return state"
      ],
      "metadata": {
        "id": "J9GZ7t3-2tcw"
      },
      "execution_count": 4,
      "outputs": []
    },
    {
      "cell_type": "code",
      "source": [
        "# Define the actions\n",
        "num_actions = 2  # Buy (1) or Hold (0)\n",
        "action_mapping = {0: 'Hold', 1: 'Buy'}\n",
        "\n",
        "# Create a Q-table, which is a table that stores the Q-values for each state-action pair.\n",
        "num_train_states = train_data_normalized.shape[0]\n",
        "num_test_states = test_data_normalized.shape[0]\n",
        "q_table = torch.zeros((num_train_states, num_actions))\n",
        "# Initialize the Q-table with random values.\n",
        "nn.init.xavier_uniform_(q_table)"
      ],
      "metadata": {
        "colab": {
          "base_uri": "https://localhost:8080/"
        },
        "id": "He4wfbGI2xIM",
        "outputId": "5666c57a-3c22-4cbb-e581-158d9e17f313"
      },
      "execution_count": 5,
      "outputs": [
        {
          "output_type": "execute_result",
          "data": {
            "text/plain": [
              "tensor([[ 0.0245, -0.0030],\n",
              "        [-0.0350, -0.0026],\n",
              "        [-0.0274,  0.0450],\n",
              "        ...,\n",
              "        [ 0.0184,  0.0379],\n",
              "        [-0.0406,  0.0133],\n",
              "        [ 0.0425, -0.0036]])"
            ]
          },
          "metadata": {},
          "execution_count": 5
        }
      ]
    },
    {
      "cell_type": "code",
      "source": [
        "# Define the epsilon-greedy policy\n",
        "def epsilon_greedy_policy(state, q_table, epsilon):\n",
        "    if random.random() < epsilon:\n",
        "        action = random.randint(0, num_actions - 1)\n",
        "    else:\n",
        "        action = torch.argmax(q_table[state])\n",
        "    return action"
      ],
      "metadata": {
        "id": "wDr9jBDO27Yb"
      },
      "execution_count": 6,
      "outputs": []
    },
    {
      "cell_type": "code",
      "source": [
        "# Define the Bellman equation\n",
        "def bellman_equation(state, action, reward, next_state_index, q_table):\n",
        "    if next_state_index < num_train_states:\n",
        "        next_state = torch.tensor([next_state_index])\n",
        "        target = reward + gamma * torch.max(q_table[next_state])\n",
        "    else:\n",
        "        target = reward\n",
        "    q_table[state, action] = target"
      ],
      "metadata": {
        "id": "UMk_B0m-2-16"
      },
      "execution_count": 7,
      "outputs": []
    },
    {
      "cell_type": "code",
      "source": [
        "# Training phase\n",
        "num_epochs = 100\n",
        "epsilon = 1.0\n",
        "gamma = 0.98\n",
        "replay_buffer = []\n",
        "batch_size = 32\n",
        "target_update_freq = 10\n",
        "target_q_table = q_table.clone()\n",
        "\n",
        "for i in range(num_epochs):\n",
        "    for state in range(num_train_states - 1):\n",
        "        current_state = get_state(state, train_data_normalized)\n",
        "        action = epsilon_greedy_policy(state, q_table, epsilon)\n",
        "        reward = train_data_normalized[state + 1].item()  # Convert tensor to a Python scalar\n",
        "        next_state_index = state + 1\n",
        "        bellman_equation(state, action, reward, next_state_index, q_table)\n",
        "\n",
        "        # Store experience in replay buffer\n",
        "        replay_buffer.append((current_state, action, reward, next_state_index))\n",
        "\n",
        "        # Perform experience replay\n",
        "        if len(replay_buffer) >= batch_size:\n",
        "            batch = random.sample(replay_buffer, batch_size)\n",
        "            for batch_current_state, batch_action, batch_reward, batch_next_state_index in batch:\n",
        "                bellman_equation(batch_current_state, batch_action, batch_reward, batch_next_state_index, q_table)\n",
        "\n",
        "    # Update target Q-table\n",
        "    if i % target_update_freq == 0:\n",
        "        target_q_table = q_table.clone()\n",
        "\n",
        "    # Decay epsilon\n",
        "    epsilon *= 0.70"
      ],
      "metadata": {
        "id": "bMqeKzTK3ABJ"
      },
      "execution_count": 8,
      "outputs": []
    },
    {
      "cell_type": "code",
      "source": [
        "# Testing phase\n",
        "shares = 0\n",
        "portfolio = 10000\n",
        "profits = []\n",
        "for state in range(num_test_states - 1):\n",
        "    current_state = get_state(state, test_data_normalized)\n",
        "    action = torch.argmax(q_table[state])\n",
        "    if action == 1:\n",
        "        shares += 1\n",
        "    profit = scaler.inverse_transform([test_data_normalized[state + 1]]) * shares - portfolio\n",
        "    profits.append(profit)\n",
        "\n",
        "# Flatten the profits list\n",
        "flattened_profits = [item for sublist in profits for item in sublist]\n",
        "\n",
        "# Visualize the results\n",
        "plt.plot(flattened_profits)\n",
        "plt.xlabel('Step')\n",
        "plt.ylabel('Profit')\n",
        "plt.title('Profits Gained over Time')\n",
        "plt.show()"
      ],
      "metadata": {
        "colab": {
          "base_uri": "https://localhost:8080/",
          "height": 472
        },
        "id": "NbyKTdvb3lfT",
        "outputId": "b6b79e45-0db9-4502-d6e8-5bb5a28c39e0"
      },
      "execution_count": 9,
      "outputs": [
        {
          "output_type": "display_data",
          "data": {
            "text/plain": [
              "<Figure size 640x480 with 1 Axes>"
            ],
            "image/png": "[encoded data removed]"
          },
          "metadata": {}
        }
      ]
    },
    {
      "cell_type": "code",
      "source": [],
      "metadata": {
        "id": "QLRZjIot3mV-"
      },
      "execution_count": null,
      "outputs": []
    }
  ]
}